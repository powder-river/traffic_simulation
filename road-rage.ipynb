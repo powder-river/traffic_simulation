{
 "cells": [
  {
   "cell_type": "code",
   "execution_count": 1,
   "metadata": {
    "collapsed": true
   },
   "outputs": [],
   "source": [
    "import numpy as np\n",
    "import matplotlib.pyplot as plt\n",
    "import random"
   ]
  },
  {
   "cell_type": "code",
   "execution_count": 2,
   "metadata": {
    "collapsed": false
   },
   "outputs": [],
   "source": [
    "%matplotlib inline"
   ]
  },
  {
   "cell_type": "code",
   "execution_count": 147,
   "metadata": {
    "collapsed": false
   },
   "outputs": [],
   "source": [
    "class Car:\n",
    "    #note time is in seconds,\n",
    "    #distance is in meters\n",
    "    def __init__(self):     \n",
    "        self.length = 5\n",
    "        self.speed = 0\n",
    "        self.distance_traveled = 0\n",
    "        self.max_speed = 33 #yes i know it's technically 33.33, im lazy right now and lives dont depend on this\n",
    "        \n",
    "    \n",
    "    def speed_up(self):\n",
    "        speed = 0\n",
    "        if self.speed <= self.max_speed:\n",
    "            self.speed += 2      \n",
    "            return self.speed\n",
    "        else:\n",
    "            return self.speed\n",
    "        \n",
    "        \n",
    "    def slow(self):\n",
    "        #if car is slowed, return true\n",
    "        if random.random() < 0.1:\n",
    "            return True\n",
    "        else:\n",
    "            return False\n",
    "        \n",
    "    def drive(self):\n",
    "        if self.slow() == True and self.speed >= 2:\n",
    "            self.speed -= 2\n",
    "            return self.speed\n",
    "        elif self.slow() == False and self.speed < 120:\n",
    "            self.speed_up()\n",
    "            return self.speed\n",
    "        else:\n",
    "\n",
    "            return self.speed\n",
    "            \n",
    "        \n",
    "    def exit_road(self):\n",
    "        road = Road()\n",
    "        if self.distance_traveled > road.length:\n",
    "            return True\n",
    "        else:\n",
    "            return False     \n",
    "        \n",
    "    def tick(self):\n",
    "        print(\"Begin Driving\")\n",
    "        while self.exit_road() == False:\n",
    "            movement = self.drive()\n",
    "            self.distance_traveled += movement\n",
    "            print(\"Current Speed: {}   Distance Traveled:{}\".format(movement,self.distance_traveled ))\n",
    "        return \"Done Driving\"\n",
    "            \n",
    "        "
   ]
  },
  {
   "cell_type": "code",
   "execution_count": null,
   "metadata": {
    "collapsed": true
   },
   "outputs": [],
   "source": []
  },
  {
   "cell_type": "code",
   "execution_count": 148,
   "metadata": {
    "collapsed": false
   },
   "outputs": [],
   "source": [
    "class Road:\n",
    "    #how long is the road\n",
    "    #where are the cars on the road\n",
    "    #\n",
    "    def __init__(self):\n",
    "        self.length = 1000\n",
    "        \n",
    "    "
   ]
  },
  {
   "cell_type": "code",
   "execution_count": null,
   "metadata": {
    "collapsed": false
   },
   "outputs": [],
   "source": []
  },
  {
   "cell_type": "code",
   "execution_count": 149,
   "metadata": {
    "collapsed": false
   },
   "outputs": [],
   "source": [
    "car = Car()\n"
   ]
  },
  {
   "cell_type": "code",
   "execution_count": 150,
   "metadata": {
    "collapsed": false
   },
   "outputs": [
    {
     "name": "stdout",
     "output_type": "stream",
     "text": [
      "Begin Driving\n",
      "Current Speed: 2   Distance Traveled:2\n",
      "Current Speed: 2   Distance Traveled:4\n",
      "Current Speed: 4   Distance Traveled:8\n",
      "Current Speed: 6   Distance Traveled:14\n",
      "Current Speed: 6   Distance Traveled:20\n",
      "Current Speed: 8   Distance Traveled:28\n",
      "Current Speed: 10   Distance Traveled:38\n",
      "Current Speed: 8   Distance Traveled:46\n",
      "Current Speed: 10   Distance Traveled:56\n",
      "Current Speed: 12   Distance Traveled:68\n",
      "Current Speed: 14   Distance Traveled:82\n",
      "Current Speed: 16   Distance Traveled:98\n",
      "Current Speed: 18   Distance Traveled:116\n",
      "Current Speed: 18   Distance Traveled:134\n",
      "Current Speed: 20   Distance Traveled:154\n",
      "Current Speed: 22   Distance Traveled:176\n",
      "Current Speed: 24   Distance Traveled:200\n",
      "Current Speed: 26   Distance Traveled:226\n",
      "Current Speed: 28   Distance Traveled:254\n",
      "Current Speed: 30   Distance Traveled:284\n",
      "Current Speed: 28   Distance Traveled:312\n",
      "Current Speed: 30   Distance Traveled:342\n",
      "Current Speed: 32   Distance Traveled:374\n",
      "Current Speed: 34   Distance Traveled:408\n",
      "Current Speed: 34   Distance Traveled:442\n",
      "Current Speed: 34   Distance Traveled:476\n",
      "Current Speed: 34   Distance Traveled:510\n",
      "Current Speed: 34   Distance Traveled:544\n",
      "Current Speed: 34   Distance Traveled:578\n",
      "Current Speed: 34   Distance Traveled:612\n",
      "Current Speed: 34   Distance Traveled:646\n",
      "Current Speed: 34   Distance Traveled:680\n",
      "Current Speed: 34   Distance Traveled:714\n",
      "Current Speed: 34   Distance Traveled:748\n",
      "Current Speed: 34   Distance Traveled:782\n",
      "Current Speed: 32   Distance Traveled:814\n",
      "Current Speed: 34   Distance Traveled:848\n",
      "Current Speed: 34   Distance Traveled:882\n",
      "Current Speed: 34   Distance Traveled:916\n",
      "Current Speed: 34   Distance Traveled:950\n",
      "Current Speed: 34   Distance Traveled:984\n",
      "Current Speed: 32   Distance Traveled:1016\n"
     ]
    },
    {
     "data": {
      "text/plain": [
       "'Done Driving'"
      ]
     },
     "execution_count": 150,
     "metadata": {},
     "output_type": "execute_result"
    }
   ],
   "source": [
    "car.tick()\n"
   ]
  },
  {
   "cell_type": "code",
   "execution_count": null,
   "metadata": {
    "collapsed": false
   },
   "outputs": [],
   "source": []
  },
  {
   "cell_type": "code",
   "execution_count": null,
   "metadata": {
    "collapsed": true
   },
   "outputs": [],
   "source": []
  }
 ],
 "metadata": {
  "kernelspec": {
   "display_name": "Python 3",
   "language": "python",
   "name": "python3"
  },
  "language_info": {
   "codemirror_mode": {
    "name": "ipython",
    "version": 3
   },
   "file_extension": ".py",
   "mimetype": "text/x-python",
   "name": "python",
   "nbconvert_exporter": "python",
   "pygments_lexer": "ipython3",
   "version": "3.4.3"
  }
 },
 "nbformat": 4,
 "nbformat_minor": 0
}
