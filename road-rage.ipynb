{
 "cells": [
  {
   "cell_type": "code",
   "execution_count": 1,
   "metadata": {
    "collapsed": true
   },
   "outputs": [],
   "source": [
    "import numpy as np\n",
    "import matplotlib.pyplot as plt\n",
    "import random"
   ]
  },
  {
   "cell_type": "code",
   "execution_count": 2,
   "metadata": {
    "collapsed": false
   },
   "outputs": [],
   "source": [
    "%matplotlib inline"
   ]
  },
  {
   "cell_type": "code",
   "execution_count": 119,
   "metadata": {
    "collapsed": false
   },
   "outputs": [],
   "source": [
    "class Car:\n",
    "    #note time is in seconds,\n",
    "    #distance is in meters\n",
    "    def __init__(self):     \n",
    "        self.length = 5\n",
    "        self.speed = 0\n",
    "        self.distance_traveled = 0\n",
    "        self.max_speed = 120\n",
    "        \n",
    "    \n",
    "    def speed_up(self):\n",
    "        speed = 0\n",
    "        if self.speed <= self.max_speed:\n",
    "            self.speed += 2      \n",
    "            return self.speed\n",
    "        else:\n",
    "            return self.speed\n",
    "        \n",
    "        \n",
    "    def slow(self):\n",
    "        #if car is slowed, return true\n",
    "        if random.random() < 0.1:\n",
    "            return True\n",
    "        else:\n",
    "            return False\n",
    "        \n",
    "    def drive(self):\n",
    "        if self.slow() == True:\n",
    "            self.speed -= 2\n",
    "            return self.speed\n",
    "        elif self.slow() == False and speed < 120:\n",
    "            self.speed_up()\n",
    "            return self.speed\n",
    "        else:\n",
    "\n",
    "            return self.speed\n",
    "            \n",
    "        \n",
    "    def exit_road(self):\n",
    "        road = Road()\n",
    "        if self.distance_traveled > road.length:\n",
    "            return True\n",
    "        else:\n",
    "            return False     \n",
    "        \n",
    "    def tick(self):\n",
    "        print(\"Begin Driving\")\n",
    "        while self.exit_road() == False:\n",
    "            self.distance_traveled += self.drive()\n",
    "            print(\"Current Speed: {}   Distance Traveled:{}\".format(self.drive(),self.distance_traveled ))\n",
    "        return \"Done Driving\"\n",
    "            \n",
    "        "
   ]
  },
  {
   "cell_type": "code",
   "execution_count": null,
   "metadata": {
    "collapsed": true
   },
   "outputs": [],
   "source": []
  },
  {
   "cell_type": "code",
   "execution_count": 81,
   "metadata": {
    "collapsed": false
   },
   "outputs": [],
   "source": [
    "class Road:\n",
    "    #how long is the road\n",
    "    #where are the cars on the road\n",
    "    #\n",
    "    def __init__(self):\n",
    "        self.length = 1000\n",
    "        \n",
    "    "
   ]
  },
  {
   "cell_type": "code",
   "execution_count": null,
   "metadata": {
    "collapsed": false
   },
   "outputs": [],
   "source": []
  },
  {
   "cell_type": "code",
   "execution_count": 121,
   "metadata": {
    "collapsed": true
   },
   "outputs": [],
   "source": [
    "car = Car()"
   ]
  },
  {
   "cell_type": "code",
   "execution_count": 122,
   "metadata": {
    "collapsed": false
   },
   "outputs": [
    {
     "name": "stdout",
     "output_type": "stream",
     "text": [
      "Begin Driving\n",
      "Current Speed: 4   Distance Traveled:2\n",
      "Current Speed: 8   Distance Traveled:8\n",
      "Current Speed: 10   Distance Traveled:18\n",
      "Current Speed: 14   Distance Traveled:30\n",
      "Current Speed: 18   Distance Traveled:46\n",
      "Current Speed: 22   Distance Traveled:66\n",
      "Current Speed: 26   Distance Traveled:90\n",
      "Current Speed: 30   Distance Traveled:118\n",
      "Current Speed: 32   Distance Traveled:150\n",
      "Current Speed: 36   Distance Traveled:184\n",
      "Current Speed: 36   Distance Traveled:218\n",
      "Current Speed: 40   Distance Traveled:256\n",
      "Current Speed: 44   Distance Traveled:298\n",
      "Current Speed: 48   Distance Traveled:344\n",
      "Current Speed: 52   Distance Traveled:394\n",
      "Current Speed: 56   Distance Traveled:448\n",
      "Current Speed: 60   Distance Traveled:506\n",
      "Current Speed: 58   Distance Traveled:564\n",
      "Current Speed: 62   Distance Traveled:624\n",
      "Current Speed: 64   Distance Traveled:686\n",
      "Current Speed: 64   Distance Traveled:748\n",
      "Current Speed: 64   Distance Traveled:814\n",
      "Current Speed: 68   Distance Traveled:880\n",
      "Current Speed: 72   Distance Traveled:950\n",
      "Current Speed: 76   Distance Traveled:1024\n"
     ]
    },
    {
     "data": {
      "text/plain": [
       "'Done Driving'"
      ]
     },
     "execution_count": 122,
     "metadata": {},
     "output_type": "execute_result"
    }
   ],
   "source": [
    "car.tick()\n"
   ]
  },
  {
   "cell_type": "code",
   "execution_count": null,
   "metadata": {
    "collapsed": false
   },
   "outputs": [],
   "source": []
  },
  {
   "cell_type": "code",
   "execution_count": null,
   "metadata": {
    "collapsed": true
   },
   "outputs": [],
   "source": []
  }
 ],
 "metadata": {
  "kernelspec": {
   "display_name": "Python 3",
   "language": "python",
   "name": "python3"
  },
  "language_info": {
   "codemirror_mode": {
    "name": "ipython",
    "version": 3
   },
   "file_extension": ".py",
   "mimetype": "text/x-python",
   "name": "python",
   "nbconvert_exporter": "python",
   "pygments_lexer": "ipython3",
   "version": "3.4.3"
  }
 },
 "nbformat": 4,
 "nbformat_minor": 0
}
