{
 "cells": [
  {
   "cell_type": "code",
   "execution_count": 1,
   "metadata": {
    "collapsed": true
   },
   "outputs": [],
   "source": [
    "import numpy as np\n",
    "import matplotlib.pyplot as plt\n",
    "import random"
   ]
  },
  {
   "cell_type": "code",
   "execution_count": 2,
   "metadata": {
    "collapsed": false
   },
   "outputs": [],
   "source": [
    "%matplotlib inline"
   ]
  },
  {
   "cell_type": "code",
   "execution_count": 123,
   "metadata": {
    "collapsed": false
   },
   "outputs": [],
   "source": [
    "class Car:\n",
    "    #note time is in seconds,\n",
    "    #distance is in meters\n",
    "    def __init__(self):     \n",
    "        self.length = 5\n",
    "        self.speed = 0\n",
    "        self.distance_traveled = 0\n",
    "        self.max_speed = 120\n",
    "        \n",
    "    \n",
    "    def speed_up(self):\n",
    "        speed = 0\n",
    "        if self.speed <= self.max_speed:\n",
    "            self.speed += 2      \n",
    "            return self.speed\n",
    "        else:\n",
    "            return self.speed\n",
    "        \n",
    "        \n",
    "    def slow(self):\n",
    "        #if car is slowed, return true\n",
    "        if random.random() < 0.1:\n",
    "            return True\n",
    "        else:\n",
    "            return False\n",
    "        \n",
    "    def drive(self):\n",
    "        if self.slow() == True and self.speed >= 2:\n",
    "            self.speed -= 2\n",
    "            return self.speed\n",
    "        elif self.slow() == False and self.speed < 120:\n",
    "            self.speed_up()\n",
    "            return self.speed\n",
    "        else:\n",
    "\n",
    "            return self.speed\n",
    "            \n",
    "        \n",
    "    def exit_road(self):\n",
    "        road = Road()\n",
    "        if self.distance_traveled > road.length:\n",
    "            return True\n",
    "        else:\n",
    "            return False     \n",
    "        \n",
    "    def tick(self):\n",
    "        print(\"Begin Driving\")\n",
    "        while self.exit_road() == False:\n",
    "            movement\n",
    "            self.distance_traveled += self.drive()\n",
    "            print(\"Current Speed: {}   Distance Traveled:{}\".format(self.drive(),self.distance_traveled ))\n",
    "        return \"Done Driving\"\n",
    "            \n",
    "        "
   ]
  },
  {
   "cell_type": "code",
   "execution_count": null,
   "metadata": {
    "collapsed": true
   },
   "outputs": [],
   "source": []
  },
  {
   "cell_type": "code",
   "execution_count": 81,
   "metadata": {
    "collapsed": false
   },
   "outputs": [],
   "source": [
    "class Road:\n",
    "    #how long is the road\n",
    "    #where are the cars on the road\n",
    "    #\n",
    "    def __init__(self):\n",
    "        self.length = 1000\n",
    "        \n",
    "    "
   ]
  },
  {
   "cell_type": "code",
   "execution_count": null,
   "metadata": {
    "collapsed": false
   },
   "outputs": [],
   "source": []
  },
  {
   "cell_type": "code",
   "execution_count": 141,
   "metadata": {
    "collapsed": false
   },
   "outputs": [],
   "source": [
    "car = Car()\n"
   ]
  },
  {
   "cell_type": "code",
   "execution_count": 142,
   "metadata": {
    "collapsed": false
   },
   "outputs": [
    {
     "name": "stdout",
     "output_type": "stream",
     "text": [
      "Begin Driving\n",
      "Current Speed: 0   Distance Traveled:2\n",
      "Current Speed: 4   Distance Traveled:4\n",
      "Current Speed: 8   Distance Traveled:10\n",
      "Current Speed: 12   Distance Traveled:20\n",
      "Current Speed: 16   Distance Traveled:34\n",
      "Current Speed: 18   Distance Traveled:52\n",
      "Current Speed: 22   Distance Traveled:72\n",
      "Current Speed: 26   Distance Traveled:96\n",
      "Current Speed: 28   Distance Traveled:122\n",
      "Current Speed: 28   Distance Traveled:148\n",
      "Current Speed: 28   Distance Traveled:174\n",
      "Current Speed: 32   Distance Traveled:204\n",
      "Current Speed: 36   Distance Traveled:238\n",
      "Current Speed: 36   Distance Traveled:276\n",
      "Current Speed: 40   Distance Traveled:314\n",
      "Current Speed: 44   Distance Traveled:356\n",
      "Current Speed: 44   Distance Traveled:398\n",
      "Current Speed: 48   Distance Traveled:444\n",
      "Current Speed: 50   Distance Traveled:492\n",
      "Current Speed: 54   Distance Traveled:544\n",
      "Current Speed: 58   Distance Traveled:600\n",
      "Current Speed: 62   Distance Traveled:660\n",
      "Current Speed: 66   Distance Traveled:724\n",
      "Current Speed: 70   Distance Traveled:792\n",
      "Current Speed: 74   Distance Traveled:864\n",
      "Current Speed: 76   Distance Traveled:940\n",
      "Current Speed: 80   Distance Traveled:1018\n"
     ]
    },
    {
     "data": {
      "text/plain": [
       "'Done Driving'"
      ]
     },
     "execution_count": 142,
     "metadata": {},
     "output_type": "execute_result"
    }
   ],
   "source": [
    "car.tick()\n"
   ]
  },
  {
   "cell_type": "code",
   "execution_count": null,
   "metadata": {
    "collapsed": false
   },
   "outputs": [],
   "source": []
  },
  {
   "cell_type": "code",
   "execution_count": null,
   "metadata": {
    "collapsed": true
   },
   "outputs": [],
   "source": []
  }
 ],
 "metadata": {
  "kernelspec": {
   "display_name": "Python 3",
   "language": "python",
   "name": "python3"
  },
  "language_info": {
   "codemirror_mode": {
    "name": "ipython",
    "version": 3
   },
   "file_extension": ".py",
   "mimetype": "text/x-python",
   "name": "python",
   "nbconvert_exporter": "python",
   "pygments_lexer": "ipython3",
   "version": "3.4.3"
  }
 },
 "nbformat": 4,
 "nbformat_minor": 0
}
